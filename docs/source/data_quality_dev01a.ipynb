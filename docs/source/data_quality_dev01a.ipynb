{
 "cells": [
  {
   "cell_type": "markdown",
   "metadata": {},
   "source": [
    "# Data Quality & Dashboarding  \n",
    "* https://dvc.org/  \n",
    "* https://github.com/agile-lab-dev/DataQuality  \n",
    "* https://github.com/bikash/DataQuality  \n",
    "* https://github.com/frictionlessdata/data-quality-dashboard  \n",
    "* https://www.talend.com/resources/getting-started-creating-data-quality-dashboards/  \n",
    "* https://en.wikipedia.org/wiki/BCBS_239  \n",
    "* https://towardsdatascience.com/data-quality-dashboard-9c60f72b245c  \n",
    "* https://realpython.com/python-data-version-control/\n",
    "* https://www.nodc.noaa.gov/oads/support/MG54_3.pdf"
   ]
  },
  {
   "cell_type": "code",
   "execution_count": 2,
   "metadata": {},
   "outputs": [],
   "source": [
    "import json\n",
    "import pandas as pd"
   ]
  },
  {
   "cell_type": "code",
   "execution_count": 3,
   "metadata": {},
   "outputs": [],
   "source": [
    "attr = {\n",
    "    'accuracy': [0.1, 0.1, 0.3],\n",
    "    'precision': [0.0001, 1, 1],\n",
    "    'integrity': 0.6, \n",
    "    'quality': 2,\n",
    "    'frequency': '1 hr',\n",
    "    'complete': 0.89,\n",
    "}"
   ]
  },
  {
   "cell_type": "code",
   "execution_count": 9,
   "metadata": {},
   "outputs": [
    {
     "data": {
      "text/html": [
       "<div>\n",
       "<style scoped>\n",
       "    .dataframe tbody tr th:only-of-type {\n",
       "        vertical-align: middle;\n",
       "    }\n",
       "\n",
       "    .dataframe tbody tr th {\n",
       "        vertical-align: top;\n",
       "    }\n",
       "\n",
       "    .dataframe thead th {\n",
       "        text-align: right;\n",
       "    }\n",
       "</style>\n",
       "<table border=\"1\" class=\"dataframe\">\n",
       "  <thead>\n",
       "    <tr style=\"text-align: right;\">\n",
       "      <th></th>\n",
       "      <th>row</th>\n",
       "      <th>email</th>\n",
       "      <th>ssn</th>\n",
       "      <th>blood_type</th>\n",
       "      <th>address</th>\n",
       "      <th>salinity</th>\n",
       "      <th>account_total</th>\n",
       "    </tr>\n",
       "  </thead>\n",
       "  <tbody>\n",
       "    <tr>\n",
       "      <th>0</th>\n",
       "      <td>1</td>\n",
       "      <td>foo@yhaoo.com</td>\n",
       "      <td>123</td>\n",
       "      <td>A</td>\n",
       "      <td>455 NE 88th St, Austin, TX 98444</td>\n",
       "      <td>33.4</td>\n",
       "      <td>450044.98</td>\n",
       "    </tr>\n",
       "    <tr>\n",
       "      <th>1</th>\n",
       "      <td>2</td>\n",
       "      <td>bar@google.com</td>\n",
       "      <td>456</td>\n",
       "      <td>B</td>\n",
       "      <td>9221 Terry Ave Santa Rosa, ID, 23100</td>\n",
       "      <td>33.2</td>\n",
       "      <td>2331.00</td>\n",
       "    </tr>\n",
       "    <tr>\n",
       "      <th>2</th>\n",
       "      <td>3</td>\n",
       "      <td>this@nytimes.com</td>\n",
       "      <td>789</td>\n",
       "      <td>AB</td>\n",
       "      <td>5498 Bobstole Pl New Haven, CT, 15446</td>\n",
       "      <td>12.8</td>\n",
       "      <td>58124.40</td>\n",
       "    </tr>\n",
       "    <tr>\n",
       "      <th>3</th>\n",
       "      <td>4</td>\n",
       "      <td>that@sada.com</td>\n",
       "      <td>102</td>\n",
       "      <td>O</td>\n",
       "      <td>509 Hwy 43, Toupenville, NV 87433</td>\n",
       "      <td>33.4</td>\n",
       "      <td>0.00</td>\n",
       "    </tr>\n",
       "  </tbody>\n",
       "</table>\n",
       "</div>"
      ],
      "text/plain": [
       "   row             email  ssn blood_type  \\\n",
       "0    1     foo@yhaoo.com  123          A   \n",
       "1    2    bar@google.com  456          B   \n",
       "2    3  this@nytimes.com  789         AB   \n",
       "3    4     that@sada.com  102          O   \n",
       "\n",
       "                                 address  salinity  account_total  \n",
       "0       455 NE 88th St, Austin, TX 98444      33.4      450044.98  \n",
       "1   9221 Terry Ave Santa Rosa, ID, 23100      33.2        2331.00  \n",
       "2  5498 Bobstole Pl New Haven, CT, 15446      12.8       58124.40  \n",
       "3      509 Hwy 43, Toupenville, NV 87433      33.4           0.00  "
      ]
     },
     "execution_count": 9,
     "metadata": {},
     "output_type": "execute_result"
    }
   ],
   "source": [
    "df1 = pd.DataFrame({'row':[1,2,3,4], \n",
    "                    'email':['foo@yhaoo.com', 'bar@google.com', 'this@nytimes.com', 'that@sada.com'],\n",
    "                    'ssn': [123, 456, 789, 102],\n",
    "                    'blood_type': ['A', 'B', 'AB', 'O'],\n",
    "                    'address': ['455 NE 88th St, Austin, TX 98444', '9221 Terry Ave Santa Rosa, ID, 23100', '5498 Bobstole Pl New Haven, CT, 15446', '509 Hwy 43, Toupenville, NV 87433'],\n",
    "                    'salinity': [33.4, 33.2, 12.8, 33.4],\n",
    "                    'account_total': [450044.98, 2331.00, 58124.40, 0.0]})\n",
    "df1"
   ]
  },
  {
   "cell_type": "code",
   "execution_count": null,
   "metadata": {},
   "outputs": [],
   "source": []
  }
 ],
 "metadata": {
  "jupytext": {
   "formats": "ipynb,py:percent"
  },
  "kernelspec": {
   "display_name": "Python 3 (ipykernel)",
   "language": "python",
   "name": "python3"
  },
  "language_info": {
   "codemirror_mode": {
    "name": "ipython",
    "version": 3
   },
   "file_extension": ".py",
   "mimetype": "text/x-python",
   "name": "python",
   "nbconvert_exporter": "python",
   "pygments_lexer": "ipython3",
   "version": "3.12.2"
  }
 },
 "nbformat": 4,
 "nbformat_minor": 4
}
